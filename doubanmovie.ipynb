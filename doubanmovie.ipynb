{
 "metadata": {
  "name": ""
 },
 "nbformat": 3,
 "nbformat_minor": 0,
 "worksheets": [
  {
   "cells": [
    {
     "cell_type": "code",
     "collapsed": false,
     "input": [
      "%matplotlib inline\n",
      "import os\n",
      "import numpy as np\n",
      "from matplotlib.pylab import *\n",
      "from sklearn.metrics.pairwise import cosine_similarity\n",
      "mlroot = './doubanmovie_dataset'"
     ],
     "language": "python",
     "metadata": {},
     "outputs": [],
     "prompt_number": 1
    },
    {
     "cell_type": "markdown",
     "metadata": {},
     "source": [
      "## 1.\u8f7d\u5165\u539f\u59cb\u6570\u636e"
     ]
    },
    {
     "cell_type": "code",
     "collapsed": false,
     "input": [
      "rating_data_raw = sc.textFile(os.path.join(mlroot, 'data.csv')) #\u8f7d\u5165\u8bc4\u5206\u6570\u636e\n",
      "#\u53ef\u80fd\u4f1a\u6709\u91cd\u590d\u7684,distinct\u4e00\u4e0b\n",
      "rating_data_raw = rating_data_raw.distinct()\n",
      "rating_data_raw.first() #\u539f\u59cb\u6570\u636e\u683c\u5f0f,\u5206\u522b\u4e3a\u7535\u5f71id,\u7528\u6237id,\u8bc4\u5206"
     ],
     "language": "python",
     "metadata": {},
     "outputs": [
      {
       "metadata": {},
       "output_type": "pyout",
       "prompt_number": 2,
       "text": [
        "u'21359690,66871609,3'"
       ]
      }
     ],
     "prompt_number": 2
    },
    {
     "cell_type": "code",
     "collapsed": false,
     "input": [
      "rating_data = rating_data_raw.map(lambda line: line.split(\",\")) #rating_data\u5c06\u4f5c\u4e3a\u4ee5\u540e\u4f7f\u7528\u7684RDD\n",
      "ratings_score = rating_data.map(lambda fields: int(fields[2])) #\u6240\u6709\u7684\u8bc4\u5206"
     ],
     "language": "python",
     "metadata": {},
     "outputs": [],
     "prompt_number": 3
    },
    {
     "cell_type": "code",
     "collapsed": false,
     "input": [
      "max_rating = ratings_score.reduce(lambda x, y: max(x, y))\n",
      "min_rating = ratings_score.reduce(lambda x, y: min(x, y))\n",
      "print min_rating, max_rating #\u8c46\u74e3\u8bc4\u5206\u662f\u4ece1\u52305"
     ],
     "language": "python",
     "metadata": {},
     "outputs": [
      {
       "output_type": "stream",
       "stream": "stdout",
       "text": [
        "1 5\n"
       ]
      }
     ],
     "prompt_number": 4
    },
    {
     "cell_type": "code",
     "collapsed": false,
     "input": [
      "count_by_rating = ratings_score.countByValue()\n",
      "print count_by_rating.items() #\u53ef\u4ee5\u5927\u6982\u770b\u5230\u5bf9\u4e8e\u6240\u6709\u7535\u6e90, \u7ed9\u51fa5\u79cd\u8bc4\u5206\u7684\u4eba\u6570\u5206\u5e03"
     ],
     "language": "python",
     "metadata": {},
     "outputs": [
      {
       "output_type": "stream",
       "stream": "stdout",
       "text": [
        "[(1, 12628), (2, 29578), (3, 73113), (4, 55289), (5, 31338)]\n"
       ]
      }
     ],
     "prompt_number": 5
    },
    {
     "cell_type": "code",
     "collapsed": false,
     "input": [
      "all_user_id = rating_data.map(lambda fields: fields[1]).distinct().collect() #\u4e00\u4e2a\u7528\u6237\u53ef\u80fd\u4e3a\u591a\u90e8\u7535\u5f71\u8bc4\u5206,\u7528distinct\u627e\u51fa\u6240\u6709\u7528\u6237\n",
      "print len(all_user_id) #\u7528\u6237\u6570\u91cf"
     ],
     "language": "python",
     "metadata": {},
     "outputs": [
      {
       "output_type": "stream",
       "stream": "stdout",
       "text": [
        "87782\n"
       ]
      }
     ],
     "prompt_number": 6
    },
    {
     "cell_type": "code",
     "collapsed": false,
     "input": [
      "all_movie_id = rating_data.map(lambda fields: fields[0]).distinct().collect() #\u627e\u51fa\u6240\u6709\u7535\u5f71\n",
      "print len(all_movie_id) #\u7535\u5f71\u6570\u91cf"
     ],
     "language": "python",
     "metadata": {},
     "outputs": [
      {
       "output_type": "stream",
       "stream": "stdout",
       "text": [
        "1959\n"
       ]
      }
     ],
     "prompt_number": 7
    },
    {
     "cell_type": "markdown",
     "metadata": {},
     "source": [
      "## 2.\u8bad\u7ec3\u6a21\u578b"
     ]
    },
    {
     "cell_type": "code",
     "collapsed": false,
     "input": [
      "from pyspark.mllib.recommendation import ALS, Rating"
     ],
     "language": "python",
     "metadata": {},
     "outputs": [],
     "prompt_number": 8
    },
    {
     "cell_type": "code",
     "collapsed": false,
     "input": [
      "# \u628auser_id\u8f6c\u4e3aint\n",
      "user_id_items = zip(range(0, len(all_user_id)), all_user_id)\n",
      "id_user_dict = dict(user_id_items) # 1:\"user1\", ...\n",
      "user_id_dict = {v:k for k, v in id_user_dict.items()} #\"user1\":1, ..."
     ],
     "language": "python",
     "metadata": {},
     "outputs": [],
     "prompt_number": 9
    },
    {
     "cell_type": "code",
     "collapsed": false,
     "input": [
      "# \u8f6c\u4e3aRating\u5bf9\u8c61\n",
      "ratings = rating_data.map(lambda fields: Rating(user_id_dict[fields[1]], int(fields[0]), double(fields[2])))"
     ],
     "language": "python",
     "metadata": {},
     "outputs": [],
     "prompt_number": 10
    },
    {
     "cell_type": "code",
     "collapsed": false,
     "input": [
      "# \u8bad\u7ec3\u6a21\u578b,\u5b9e\u9645\u4e0a\u5c31\u662f\u8ba1\u7b97\u77e9\u9635\u5206\u89e3\n",
      "model = ALS.train(ratings, 50, 30, 0.03)"
     ],
     "language": "python",
     "metadata": {},
     "outputs": [],
     "prompt_number": 11
    },
    {
     "cell_type": "code",
     "collapsed": false,
     "input": [
      "print model.userFeatures().count()\n",
      "print model.productFeatures().count()"
     ],
     "language": "python",
     "metadata": {},
     "outputs": [
      {
       "output_type": "stream",
       "stream": "stdout",
       "text": [
        "87782\n",
        "1959"
       ]
      },
      {
       "output_type": "stream",
       "stream": "stdout",
       "text": [
        "\n"
       ]
      }
     ],
     "prompt_number": 12
    },
    {
     "cell_type": "code",
     "collapsed": false,
     "input": [
      "# \u8bbe\u7f6e\u7684\u9690\u7279\u5f81\u6570\u76ee\u662f20,\u9a8c\u8bc1\u4e00\u4e0b\n",
      "one_user_feature =  model.userFeatures().first()\n",
      "one_movie_feature =  model.productFeatures().first()\n",
      "print len(one_user_feature[1])\n",
      "print len(one_movie_feature[1])"
     ],
     "language": "python",
     "metadata": {},
     "outputs": [
      {
       "output_type": "stream",
       "stream": "stdout",
       "text": [
        "50\n",
        "50\n"
       ]
      }
     ],
     "prompt_number": 13
    },
    {
     "cell_type": "markdown",
     "metadata": {},
     "source": [
      "## 3.\u4f7f\u7528\u63a8\u8350\u6a21\u578b\u6765\u505a\u9884\u6d4b"
     ]
    },
    {
     "cell_type": "code",
     "collapsed": false,
     "input": [
      "# \u5148\u968f\u4fbf\u770b\u770b\n",
      "# \u7528\u6237123\u5bf9\u67d0\u7535\u5f71\u7684\u9884\u6d4b\u8bc4\u5206\n",
      "user_id = 123;\n",
      "movie_id = int(all_movie_id[735]) #\u968f\u4fbf\u9009\u62e9\u4e00\u4e2a\u7535\u5f71\n",
      "model.predict(user_id,movie_id)"
     ],
     "language": "python",
     "metadata": {},
     "outputs": [
      {
       "metadata": {},
       "output_type": "pyout",
       "prompt_number": 14,
       "text": [
        "2.31078083801742"
       ]
      }
     ],
     "prompt_number": 14
    },
    {
     "cell_type": "code",
     "collapsed": false,
     "input": [
      "# \u7ed9\u4ed6\u63a8\u835010\u4e2a\u7535\u5f71\n",
      "K = 10\n",
      "topK_rec = model.recommendProducts(user_id, K)\n",
      "for rec in topK_rec:\n",
      "    print rec"
     ],
     "language": "python",
     "metadata": {},
     "outputs": [
      {
       "output_type": "stream",
       "stream": "stdout",
       "text": [
        "Rating(user=123, product=5327268, rating=3.479442887269393)\n",
        "Rating(user=123, product=25787888, rating=3.446936491431765)\n",
        "Rating(user=123, product=25810726, rating=3.385238807827917)\n",
        "Rating(user=123, product=11526817, rating=3.370408637333385)\n",
        "Rating(user=123, product=26611043, rating=3.3165096994780177)\n",
        "Rating(user=123, product=6875863, rating=3.312259542741201)\n",
        "Rating(user=123, product=25735931, rating=3.308516928776461)\n",
        "Rating(user=123, product=25986676, rating=3.2596841209406673)\n",
        "Rating(user=123, product=4920389, rating=3.256356073246799)\n",
        "Rating(user=123, product=2131940, rating=3.2343189008603392)\n"
       ]
      }
     ],
     "prompt_number": 15
    },
    {
     "cell_type": "markdown",
     "metadata": {},
     "source": [
      "### 3.1 \u9a8c\u8bc1\u6a21\u578b\u6548\u679c"
     ]
    },
    {
     "cell_type": "code",
     "collapsed": false,
     "input": [
      "movie_info = sc.textFile(os.path.join(mlroot, 'movie_info'))\n",
      "# \u770b\u770b\u6570\u636e\u683c\u5f0f\n",
      "print movie_info.first()"
     ],
     "language": "python",
     "metadata": {},
     "outputs": [
      {
       "output_type": "stream",
       "stream": "stdout",
       "text": [
        "25730878|Il giovane favoloso|\u9752\u6625\u97f6\u534e / Leopardi|http://movie.douban.com/movie/25730878|\u610f\u5927\u5229|\u4f20\u8bb0|\u610f\u5927\u5229\u7535\u5f71|2014|\u7535\u5f71|MarioMartone|\u5386\u53f2|Mario_Martone\n"
       ]
      }
     ],
     "prompt_number": 16
    },
    {
     "cell_type": "code",
     "collapsed": false,
     "input": [
      "#\u8f6c\u4e3a\u7535\u5f71\u548c\u4fe1\u606f\u8bcd\u5178\n",
      "def movieDict(movie_info_line):\n",
      "    movie_info_cols = movie_info_line.split('|')\n",
      "    key = int(movie_info_cols[0])\n",
      "    name1 = movie_info_cols[1]\n",
      "    name2 = movie_info_cols[2]\n",
      "    url = movie_info_cols[3]\n",
      "    tags = movie_info_cols[4:]\n",
      "    return (key, [name1, name2, url, tags])\n",
      "movie_dict = movie_info.map(lambda x: movieDict(x)).collectAsMap()"
     ],
     "language": "python",
     "metadata": {},
     "outputs": [],
     "prompt_number": 17
    },
    {
     "cell_type": "code",
     "collapsed": false,
     "input": [
      "# \u968f\u4fbf\u627e\u4e00\u4e2a\u7535\u5f71\n",
      "for item in movie_dict[1856030]:\n",
      "    if type(item).__name__ == 'list':\n",
      "        for tags in item:\n",
      "            print tags,\n",
      "    else:\n",
      "        print item"
     ],
     "language": "python",
     "metadata": {},
     "outputs": [
      {
       "output_type": "stream",
       "stream": "stdout",
       "text": [
        "Ghost of Mae Nak\n",
        "\u9b3c\u59bb2 / \u5e7d\u9b42\u5a1c\u5a1c2\uff1a\u9b3c\u5239(\u53f0)\n",
        "http://movie.douban.com/movie/1856030\n",
        "\u6cf0\u56fd \u6050\u6016 \u6cf0\u56fd\u7535\u5f71 \u60ca\u609a \u6050\u6016\u7535\u5f71 \u6050\u6016\u7247 \u7535\u5f71 \u5973\u9b54\n"
       ]
      }
     ],
     "prompt_number": 18
    },
    {
     "cell_type": "code",
     "collapsed": false,
     "input": [
      "# \u6bcf\u4e2a\u7528\u6237\u8bc4\u5206\u8fc7\u7684\u7535\u5f71\n",
      "movies_for_user = ratings.keyBy(lambda x:x.user)"
     ],
     "language": "python",
     "metadata": {},
     "outputs": [],
     "prompt_number": 19
    },
    {
     "cell_type": "code",
     "collapsed": false,
     "input": [
      "def printMovie(rating):\n",
      "    print \"=============\"\n",
      "    movie = movie_dict[rating.product]\n",
      "    for item in movie:\n",
      "        if type(item).__name__ == 'list':\n",
      "            for tags in item:\n",
      "                print tags,\n",
      "        else:\n",
      "            print item\n",
      "    print \"rating: \", rating.rating    "
     ],
     "language": "python",
     "metadata": {},
     "outputs": [],
     "prompt_number": 20
    },
    {
     "cell_type": "code",
     "collapsed": false,
     "input": [
      "user_id = 15000\n",
      "rated_movies = movies_for_user.lookup(user_id)\n",
      "# \u4e0d\u660e\u767d\u4e3a\u4ec0\u4e48lookup\u4e4b\u540e\u5c31\u4e0d\u662frdd\u4e86\n",
      "rated_movies = sc.parallelize(rated_movies)"
     ],
     "language": "python",
     "metadata": {},
     "outputs": [],
     "prompt_number": 21
    },
    {
     "cell_type": "code",
     "collapsed": false,
     "input": [
      "##\u6839\u636e\u6587\u6863 Printing elements of an RDD, \u5728driver\u4e0a\u6253\u5370rdd\u5143\u7d20\u5fc5\u987b\u8981collect,\u4e0dcollect\u76f4\u63a5\u7528foreach\u4f1a\u6253\u5370\u5728worker\u4e0a..\n",
      "## \u8be5\u7528\u6237\u8bc4\u5206\u8fc7\u7684\u524d10\u4e2a\u7535\u5f71\n",
      "_ = map(printMovie, rated_movies.sortBy(lambda x:x.rating, ascending=False).take(10))"
     ],
     "language": "python",
     "metadata": {},
     "outputs": [
      {
       "output_type": "stream",
       "stream": "stdout",
       "text": [
        "=============\n",
        "Insensibles\n",
        "\u65e0\u77e5\u65e0\u89c9 / \u6ca1\u6709\u75db\u611f\u7684\u5c0f\u5b69(\u53f0)\n",
        "http://movie.douban.com/movie/6731992\n",
        "\u897f\u73ed\u7259 \u60ca\u609a \u60ac\u7591 \u6050\u6016 \u5267\u60c5 2012 \u4eba\u6027 \u6cd5\u56fd rating:  5.0\n",
        "=============\n",
        "Nine Dead\n",
        "\u4e5d\u6b7b\n",
        "http://movie.douban.com/movie/4023433\n",
        "\u60ac\u7591 \u7f8e\u56fd \u60ca\u609a \u72af\u7f6a \u7f8e\u56fd\u7535\u5f71 2010 \u8c0b\u6740 \u6050\u6016 rating:  4.0\n",
        "=============\n",
        "Quarantine\n",
        "\u9694\u79bb\u533a / Quarantined\n",
        "http://movie.douban.com/movie/2373638\n",
        "\u6050\u6016 \u60ca\u609a \u7f8e\u56fd \u50f5\u5c38 \u4e27\u5c38 \u6050\u6016\u7535\u5f71 \u7f8e\u56fd\u7535\u5f71 2008 rating:  3.0\n",
        "=============\n",
        "Hunger\n",
        "\u9965\u997f\u96be\u8010 / \u9965\u997f\n",
        "http://movie.douban.com/movie/4935243\n",
        "\u60ca\u609a \u4eba\u6027 \u6050\u6016 \u7f8e\u56fd \u8840\u8165 \u7f8e\u56fd\u7535\u5f71 \u9965\u997f 2009 rating:  3.0\n",
        "=============\n",
        "Quarantine 2: Terminal\n",
        "\u9694\u79bb\u533a2\uff1a\u7ec8\u70b9\u7ad9 / \u9694\u79bb\u533a2\uff1a\u7ec8\u7aef\n",
        "http://movie.douban.com/movie/6519403\n",
        "\u60ca\u609a \u4e27\u5c38 \u7f8e\u56fd \u6050\u6016 2011 \u7f8e\u56fd\u7535\u5f71 \u50f5\u5c38 \u79d1\u5e7b rating:  3.0\n"
       ]
      }
     ],
     "prompt_number": 22
    },
    {
     "cell_type": "code",
     "collapsed": false,
     "input": [
      "# \u5bf9\u8fd9\u4e2auser_id\u8fdb\u884c\u9884\u6d4b\n",
      "K = 5\n",
      "topK_rec = model.recommendProducts(user_id, K)"
     ],
     "language": "python",
     "metadata": {},
     "outputs": [],
     "prompt_number": 23
    },
    {
     "cell_type": "code",
     "collapsed": false,
     "input": [
      "_ = map(printMovie, topK_rec)"
     ],
     "language": "python",
     "metadata": {},
     "outputs": [
      {
       "output_type": "stream",
       "stream": "stdout",
       "text": [
        "=============\n",
        "Assassin's Creed\n",
        "\u523a\u5ba2\u4fe1\u6761 / \u523a\u5ba2\u6559\u6761(\u53f0)\n",
        "http://movie.douban.com/movie/11526817\n",
        "MichaelFassbender \u7f8e\u56fd \u52a8\u4f5c \u7535\u5f71 \u7f8e\u56fd\u7535\u5f71 Assassin\u2019s \u6cd5\u9ca8 \u6e38\u620f\u6539\u7f16 rating:  5.90087532551\n",
        "=============\n",
        "The Hateful Eight\n",
        "\u516b\u6076\u4eba / \u53ef\u618e\u516b\u4eba\n",
        "http://movie.douban.com/movie/25787888\n",
        "\u6606\u6c40\u00b7\u5854\u4f26\u8482\u8bfa \u7f8e\u56fd QuentinTarantino 2015 \u897f\u90e8 \u6606\u6c40 \u7f8e\u56fd\u7535\u5f71 \u5267\u60c5 rating:  5.78431420826\n",
        "=============\n",
        "The Revenant\n",
        "\u8352\u91ce\u730e\u4eba / \u4ea1\u9b42\n",
        "http://movie.douban.com/movie/5327268\n",
        "\u7f8e\u56fd LeonardoDiCaprio 2015 \u5267\u60c5 TomHardy \u7f8e\u56fd\u7535\u5f71 \u4e9a\u5229\u6851\u5fb7\u7f57\u00b7\u5188\u8428\u96f7\u65af\u00b7\u4f0a\u7eb3\u91cc\u591a \u83b1\u6602\u7eb3\u591a\u00b7\u8fea\u5361\u666e\u91cc\u5965 rating:  5.75844023056\n",
        "=============\n",
        "Porno\n",
        "\u731c\u706b\u8f662 / Trainspotting 2\n",
        "http://movie.douban.com/movie/22263645\n",
        "\u82f1\u56fd\u7535\u5f71 \u82f1\u56fd \u9752\u6625 \u7ecf\u5178 2016 \u5267\u60c5 \u4e39\u5c3c\u00b7\u9c8d\u5c14 2015 rating:  5.53246448296\n",
        "=============\n",
        "\u4e94\u5927\u9053\n",
        "\n",
        "http://movie.douban.com/movie/25810726\n",
        "\u7eaa\u5f55\u7247 \u5929\u6d25 \u5386\u53f2 \u4e2d\u56fd \u79df\u754c 2014 \u4e94\u5927\u9053 \u7eaa\u5f55 rating:  5.51070967073\n"
       ]
      }
     ],
     "prompt_number": 24
    },
    {
     "cell_type": "markdown",
     "metadata": {},
     "source": [
      "## 4.\u7269\u54c1\u63a8\u8350"
     ]
    },
    {
     "cell_type": "code",
     "collapsed": false,
     "input": [
      "import random \n",
      "random.seed(1)\n",
      "movie_id = random.choice(movie_dict.keys())\n",
      "print movie_id\n",
      "movie = movie_dict[movie_id]\n",
      "for item in movie:\n",
      "    if type(item).__name__ == 'list':\n",
      "        for tags in item:\n",
      "            print tags,\n",
      "    else:\n",
      "        print item"
     ],
     "language": "python",
     "metadata": {},
     "outputs": [
      {
       "output_type": "stream",
       "stream": "stdout",
       "text": [
        "7152891\n",
        "Kauwboy\n",
        "\u4e4c\u9e26\u7537\u5b69 / \u5bd2\u9e26\u5c0f\u5b50(\u6e2f)\n",
        "http://movie.douban.com/movie/7152891\n",
        "\u8377\u5170 \u513f\u7ae5 \u6210\u957f \u8377\u5170\u7535\u5f71 \u6587\u827a 2012 \u5bb6\u5ead \u72ec\u7acb\u7535\u5f71\n"
       ]
      }
     ],
     "prompt_number": 25
    },
    {
     "cell_type": "code",
     "collapsed": false,
     "input": [
      "movie_feature = model.productFeatures().lookup(movie_id)"
     ],
     "language": "python",
     "metadata": {},
     "outputs": [],
     "prompt_number": 26
    },
    {
     "cell_type": "code",
     "collapsed": false,
     "input": [
      "movie_feature = movie_feature[0]"
     ],
     "language": "python",
     "metadata": {},
     "outputs": [],
     "prompt_number": 27
    },
    {
     "cell_type": "code",
     "collapsed": false,
     "input": [
      "sims = model.productFeatures().map(lambda x:(x[0], cosine_similarity(x[1], movie_feature)))"
     ],
     "language": "python",
     "metadata": {},
     "outputs": [],
     "prompt_number": 28
    },
    {
     "cell_type": "code",
     "collapsed": false,
     "input": [
      "sortedSims = sims.top(K, key=lambda x:x[1][0][0])\n",
      "print sortedSims"
     ],
     "language": "python",
     "metadata": {},
     "outputs": [
      {
       "output_type": "stream",
       "stream": "stdout",
       "text": [
        "[(7152891, array([[ 1.]])), (10558854, array([[ 0.8923845]])), (25787888, array([[ 0.89139045]])), (10788132, array([[ 0.88832395]])), (25697098, array([[ 0.88115433]]))]\n"
       ]
      }
     ],
     "prompt_number": 29
    },
    {
     "cell_type": "code",
     "collapsed": false,
     "input": [
      "# \u663e\u793a\u7535\u5f71\u4fe1\u606f\n",
      "def printSimMovie(simMovie):\n",
      "    print \"=============\"\n",
      "    movie = movie_dict[simMovie[0]]\n",
      "    for item in movie:\n",
      "        if type(item).__name__ == 'list':\n",
      "            for tags in item:\n",
      "                print tags,\n",
      "        else:\n",
      "            print item\n",
      "    print \"predicted rating: \", simMovie[1]\n",
      "_ = map(printSimMovie, sortedSims)"
     ],
     "language": "python",
     "metadata": {},
     "outputs": [
      {
       "output_type": "stream",
       "stream": "stdout",
       "text": [
        "=============\n",
        "Kauwboy\n",
        "\u4e4c\u9e26\u7537\u5b69 / \u5bd2\u9e26\u5c0f\u5b50(\u6e2f)\n",
        "http://movie.douban.com/movie/7152891\n",
        "\u8377\u5170 \u513f\u7ae5 \u6210\u957f \u8377\u5170\u7535\u5f71 \u6587\u827a 2012 \u5bb6\u5ead \u72ec\u7acb\u7535\u5f71 predicted rating:  [[ 1.]]\n",
        "=============\n",
        "Quelques heures de printemps\n",
        "\u5f25\u7559\u4e4b\u6625 / \u6625\u65e5\u5149\u666f(\u53f0)\n",
        "http://movie.douban.com/movie/10558854\n",
        "\u6cd5\u56fd \u4eb2\u60c5 \u5267\u60c5 2012 \u5bb6\u5ead \u5b89\u4e50\u6b7b \u4eba\u751f \u6e29\u60c5 predicted rating:  [[ 0.8923845]]\n",
        "=============\n",
        "The Hateful Eight\n",
        "\u516b\u6076\u4eba / \u53ef\u618e\u516b\u4eba\n",
        "http://movie.douban.com/movie/25787888\n",
        "\u6606\u6c40\u00b7\u5854\u4f26\u8482\u8bfa \u7f8e\u56fd QuentinTarantino 2015 \u897f\u90e8 \u6606\u6c40 \u7f8e\u56fd\u7535\u5f71 \u5267\u60c5 predicted rating:  [[ 0.89139045]]\n",
        "=============\n",
        "This Is England '90\n",
        "\u82f1\u4f2690 / \u8fd9\u5c31\u662f\u82f1\u683c\u5170'90\n",
        "http://movie.douban.com/movie/10788132\n",
        "\u82f1\u5267 \u82f1\u56fd UK ShaneMeadows Channel4 2015 \u7535\u89c6\u5267 \u9752\u6625 predicted rating:  [[ 0.88832395]]\n",
        "=============\n",
        "The Dressmaker\n",
        "\u88c1\u7f1d / \u60e1\u5973\u8a02\u88fd\u670d(\u53f0)\n",
        "http://movie.douban.com/movie/25697098\n",
        "KateWinslet 2015 \u6fb3\u5927\u5229\u4e9a \u5267\u60c5 \u7f8e\u56fd \u51ef\u7279\u6e29\u65af\u83b1\u7279 \u559c\u5267 \u6fb3\u5927\u5229\u4e9a\u7535\u5f71 predicted rating:  [[ 0.88115433]]\n"
       ]
      }
     ],
     "prompt_number": 30
    },
    {
     "cell_type": "markdown",
     "metadata": {},
     "source": [
      "## 5.\u8bef\u5dee\u8bc4\u4f30"
     ]
    },
    {
     "cell_type": "code",
     "collapsed": false,
     "input": [
      "user_id = 15000\n",
      "actual_rating = movies_for_user.take(1)[0]"
     ],
     "language": "python",
     "metadata": {},
     "outputs": [],
     "prompt_number": 31
    },
    {
     "cell_type": "code",
     "collapsed": false,
     "input": [
      "printMovie(actual_rating[1])"
     ],
     "language": "python",
     "metadata": {},
     "outputs": [
      {
       "output_type": "stream",
       "stream": "stdout",
       "text": [
        "=============\n",
        "\u718a\u51fa\u6ca1\u4e4b\u8fc7\u5e74\n",
        "Boonie Bears: Homeward Journey\n",
        "http://movie.douban.com/movie/21359690\n",
        "\u52a8\u753b \u56fd\u4ea7\u52a8\u753b \u52a8\u753b\u7247 \u4e2d\u56fd \u5927\u9646 \u513f\u7ae5 \u611f\u4eba 2013 rating:  3.0\n"
       ]
      }
     ],
     "prompt_number": 32
    },
    {
     "cell_type": "code",
     "collapsed": false,
     "input": [
      "predicted_rating = model.predict(user_id, actual_rating[1].product)\n",
      "print predicted_rating"
     ],
     "language": "python",
     "metadata": {},
     "outputs": [
      {
       "output_type": "stream",
       "stream": "stdout",
       "text": [
        "3.46190362109\n"
       ]
      }
     ],
     "prompt_number": 33
    },
    {
     "cell_type": "code",
     "collapsed": false,
     "input": [
      "square_error = math.pow((actual_rating[1].rating - predicted_rating), 2)\n",
      "print square_error"
     ],
     "language": "python",
     "metadata": {},
     "outputs": [
      {
       "output_type": "stream",
       "stream": "stdout",
       "text": [
        "0.213354955175\n"
       ]
      }
     ],
     "prompt_number": 34
    },
    {
     "cell_type": "markdown",
     "metadata": {},
     "source": [
      "### 5.1 \u5728\u6240\u6709\u6570\u636e\u4e0a\u8ba1\u7b97\u5747\u65b9\u5dee"
     ]
    },
    {
     "cell_type": "code",
     "collapsed": false,
     "input": [],
     "language": "python",
     "metadata": {},
     "outputs": [],
     "prompt_number": 34
    }
   ],
   "metadata": {}
  }
 ]
}