{
 "metadata": {
  "name": ""
 },
 "nbformat": 3,
 "nbformat_minor": 0,
 "worksheets": [
  {
   "cells": [
    {
     "cell_type": "code",
     "collapsed": false,
     "input": [
      "%matplotlib inline\n",
      "%pylab inline\n",
      "import os\n",
      "mlroot = './dataset/Bike-Sharing-Dataset/'"
     ],
     "language": "python",
     "metadata": {},
     "outputs": [
      {
       "output_type": "stream",
       "stream": "stdout",
       "text": [
        "Populating the interactive namespace from numpy and matplotlib\n"
       ]
      }
     ],
     "prompt_number": 1
    },
    {
     "cell_type": "code",
     "collapsed": false,
     "input": [
      "path = \"hour_noheader.csv\"\n",
      "raw_data = sc.textFile(os.path.join(mlroot, path))\n",
      "num_data = raw_data.count()\n",
      "records = raw_data.map(lambda x: x.split(\",\"))\n",
      "first = records.first()\n",
      "print first\n",
      "print num_data"
     ],
     "language": "python",
     "metadata": {},
     "outputs": [
      {
       "output_type": "stream",
       "stream": "stdout",
       "text": [
        "[u'1', u'2011-01-01', u'1', u'0', u'1', u'0', u'0', u'6', u'0', u'1', u'0.24', u'0.2879', u'0.81', u'0', u'3', u'13', u'16']\n",
        "17379\n"
       ]
      }
     ],
     "prompt_number": 2
    },
    {
     "cell_type": "code",
     "collapsed": false,
     "input": [
      "records.cache()"
     ],
     "language": "python",
     "metadata": {},
     "outputs": [
      {
       "metadata": {},
       "output_type": "pyout",
       "prompt_number": 3,
       "text": [
        "PythonRDD[4] at RDD at PythonRDD.scala:43"
       ]
      }
     ],
     "prompt_number": 3
    },
    {
     "cell_type": "code",
     "collapsed": false,
     "input": [
      "def get_mapping(rdd, idx):\n",
      "    return rdd.map(lambda fields: fields[idx]).distinct().zipWithIndex().collectAsMap()"
     ],
     "language": "python",
     "metadata": {},
     "outputs": [],
     "prompt_number": 4
    },
    {
     "cell_type": "code",
     "collapsed": false,
     "input": [
      "print \"Mapping of first categorical feasture column: %s\" % get_mapping(records, 2)"
     ],
     "language": "python",
     "metadata": {},
     "outputs": [
      {
       "output_type": "stream",
       "stream": "stdout",
       "text": [
        "Mapping of first categorical feasture column: {u'1': 0, u'3': 1, u'2': 2, u'4': 3}\n"
       ]
      }
     ],
     "prompt_number": 5
    },
    {
     "cell_type": "code",
     "collapsed": false,
     "input": [
      "mappings = [get_mapping(records, i) for i in range(2,10)]\n",
      "cat_len = sum(map(len, mappings))\n",
      "num_len = len(records.first()[11:15])\n",
      "total_len = num_len + cat_len"
     ],
     "language": "python",
     "metadata": {},
     "outputs": [],
     "prompt_number": 6
    },
    {
     "cell_type": "code",
     "collapsed": false,
     "input": [
      "print \"Feature vector length for categorical features: %d\" % cat_len \n",
      "print \"Feature vector length for numerical features: %d\" % num_len\n",
      "print \"Total feature vector length: %d\" % total_len"
     ],
     "language": "python",
     "metadata": {},
     "outputs": [
      {
       "output_type": "stream",
       "stream": "stdout",
       "text": [
        "Feature vector length for categorical features: 57\n",
        "Feature vector length for numerical features: 4\n",
        "Total feature vector length: 61\n"
       ]
      }
     ],
     "prompt_number": 7
    },
    {
     "cell_type": "code",
     "collapsed": false,
     "input": [
      "from pyspark.mllib.regression import LabeledPoint\n",
      "import numpy as np\n",
      "\n",
      "def extract_features(record):\n",
      "  cat_vec = np.zeros(cat_len)\n",
      "  i = 0\n",
      "  step = 0\n",
      "  for field in record[2:9]:\n",
      "    m = mappings[i]\n",
      "    idx = m[field]\n",
      "    cat_vec[idx + step] = 1\n",
      "    i = i + 1\n",
      "    step = step + len(m)\n",
      "  num_vec = np.array([float(field) for field in record[10:14]])\n",
      "  return np.concatenate((cat_vec, num_vec))\n",
      "\n",
      "def extract_label(record):\n",
      "  return float(record[-1])"
     ],
     "language": "python",
     "metadata": {},
     "outputs": [],
     "prompt_number": 8
    },
    {
     "cell_type": "code",
     "collapsed": false,
     "input": [
      "data = records.map(lambda r: LabeledPoint(extract_label(r), extract_features(r)))\n",
      "first_point = data.first()\n",
      "print \"Raw data: \" + str(first[2:])\n",
      "print \"Label: \" + str(first_point.label)\n",
      "print \"Linear Model feature vector:\\n\" + str(first_point.features)\n",
      "print \"Linear Model feature vector length: \" + str(len(first_point.features))"
     ],
     "language": "python",
     "metadata": {},
     "outputs": [
      {
       "output_type": "stream",
       "stream": "stdout",
       "text": [
        "Raw data: [u'1', u'0', u'1', u'0', u'0', u'6', u'0', u'1', u'0.24', u'0.2879', u'0.81', u'0', u'3', u'13', u'16']\n",
        "Label: 16.0\n",
        "Linear Model feature vector:\n",
        "[1.0,0.0,0.0,0.0,0.0,1.0,0.0,1.0,0.0,0.0,0.0,0.0,0.0,0.0,0.0,0.0,0.0,0.0,0.0,0.0,0.0,0.0,0.0,0.0,0.0,0.0,0.0,0.0,0.0,0.0,0.0,0.0,0.0,0.0,0.0,0.0,1.0,0.0,0.0,0.0,0.0,0.0,0.0,1.0,0.0,0.0,0.0,0.0,0.0,0.0,1.0,0.0,1.0,0.0,0.0,0.0,0.0,0.24,0.2879,0.81,0.0]\n",
        "Linear Model feature vector length: 61\n"
       ]
      }
     ],
     "prompt_number": 9
    },
    {
     "cell_type": "code",
     "collapsed": false,
     "input": [
      "def extract_features_dt(record):\n",
      "  return np.array(map(float, record[2:14]))\n",
      "data_dt = records.map(lambda r: LabeledPoint(extract_label(r), extract_features_dt(r)))\n",
      "first_point_dt = data_dt.first()\n",
      "print \"Decision Tree feature vector: \" + str(first_point_dt.features)\n",
      "print \"Decision Tree feature vector length: \" + str(len(first_point_dt.features))"
     ],
     "language": "python",
     "metadata": {},
     "outputs": [
      {
       "output_type": "stream",
       "stream": "stdout",
       "text": [
        "Decision Tree feature vector: [1.0,0.0,1.0,0.0,0.0,6.0,0.0,1.0,0.24,0.2879,0.81,0.0]\n",
        "Decision Tree feature vector length: 12\n"
       ]
      }
     ],
     "prompt_number": 10
    },
    {
     "cell_type": "code",
     "collapsed": false,
     "input": [
      "from pyspark.mllib.regression import LinearRegressionWithSGD\n",
      "from pyspark.mllib.tree import DecisionTree\n",
      "help(LinearRegressionWithSGD.train)"
     ],
     "language": "python",
     "metadata": {},
     "outputs": [
      {
       "output_type": "stream",
       "stream": "stdout",
       "text": [
        "Help on method train in module pyspark.mllib.regression:\n",
        "\n",
        "train(cls, data, iterations=100, step=1.0, miniBatchFraction=1.0, initialWeights=None, regParam=0.0, regType=None, intercept=False, validateData=True) method of __builtin__.type instance\n",
        "    Train a linear regression model using Stochastic Gradient\n",
        "    Descent (SGD).\n",
        "    This solves the least squares regression formulation\n",
        "    \n",
        "        f(weights) = 1/(2n) ||A weights - y||^2,\n",
        "    \n",
        "    which is the mean squared error.\n",
        "    Here the data matrix has n rows, and the input RDD holds the\n",
        "    set of rows of A, each with its corresponding right hand side\n",
        "    label y. See also the documentation for the precise formulation.\n",
        "    \n",
        "    :param data:              The training data, an RDD of\n",
        "                              LabeledPoint.\n",
        "    :param iterations:        The number of iterations\n",
        "                              (default: 100).\n",
        "    :param step:              The step parameter used in SGD\n",
        "                              (default: 1.0).\n",
        "    :param miniBatchFraction: Fraction of data to be used for each\n",
        "                              SGD iteration (default: 1.0).\n",
        "    :param initialWeights:    The initial weights (default: None).\n",
        "    :param regParam:          The regularizer parameter\n",
        "                              (default: 0.0).\n",
        "    :param regType:           The type of regularizer used for\n",
        "                              training our model.\n",
        "    \n",
        "                              :Allowed values:\n",
        "                                 - \"l1\" for using L1 regularization (lasso),\n",
        "                                 - \"l2\" for using L2 regularization (ridge),\n",
        "                                 - None for no regularization\n",
        "    \n",
        "                                 (default: None)\n",
        "    \n",
        "    :param intercept:         Boolean parameter which indicates the\n",
        "                              use or not of the augmented representation\n",
        "                              for training data (i.e. whether bias\n",
        "                              features are activated or not,\n",
        "                              default: False).\n",
        "    :param validateData:      Boolean parameter which indicates if\n",
        "                              the algorithm should validate data\n",
        "                              before training. (default: True)\n",
        "\n"
       ]
      }
     ],
     "prompt_number": 11
    },
    {
     "cell_type": "code",
     "collapsed": false,
     "input": [
      "linear_model = LinearRegressionWithSGD.train(data, iterations=10, step=0.1, intercept=False)\n",
      "true_vs_predicted = data.map(lambda p: (p.label, linear_model.predict(p.features)))\n",
      "print \"Linear Model predictions: \" + str(true_vs_predicted.take(5))"
     ],
     "language": "python",
     "metadata": {},
     "outputs": [
      {
       "output_type": "stream",
       "stream": "stdout",
       "text": [
        "Linear Model predictions: [(16.0, 117.89250386724845), (40.0, 116.2249612319211), (32.0, 116.02369145779235), (13.0, 115.67088016754431), (1.0, 115.56315650834316)]\n"
       ]
      }
     ],
     "prompt_number": 12
    },
    {
     "cell_type": "code",
     "collapsed": false,
     "input": [
      "dt_model = DecisionTree.trainRegressor(data_dt,{})\n",
      "preds = dt_model.predict(data_dt.map(lambda p: p.features))\n",
      "actual = data.map(lambda p: p.label)\n",
      "true_vs_predicted_dt = actual.zip(preds)\n",
      "print \"Decision Tree predictions: \" + str(true_vs_predicted_dt.take(5))\n",
      "print \"Decision Tree depth: \" + str(dt_model.depth())\n",
      "print \"Decision Tree number of nodes: \" + str(dt_model.numNodes())"
     ],
     "language": "python",
     "metadata": {},
     "outputs": [
      {
       "output_type": "stream",
       "stream": "stdout",
       "text": [
        "Decision Tree predictions: [(16.0, 54.913223140495866), (40.0, 54.913223140495866), (32.0, 53.171052631578945), (13.0, 14.284023668639053), (1.0, 14.284023668639053)]\n",
        "Decision Tree depth: 5\n",
        "Decision Tree number of nodes: 63\n"
       ]
      }
     ],
     "prompt_number": 13
    },
    {
     "cell_type": "code",
     "collapsed": false,
     "input": [
      "def squared_error(actual, pred):\n",
      "    return (pred - actual)**2\n",
      "def abs_error(actual, pred):\n",
      "    return np.abs(pred - actual)\n",
      "def squared_log_error(pred, actual):\n",
      "    return (np.log(pred + 1) - np.log(actual + 1))**2"
     ],
     "language": "python",
     "metadata": {},
     "outputs": [],
     "prompt_number": 14
    },
    {
     "cell_type": "code",
     "collapsed": false,
     "input": [
      "mse = true_vs_predicted.map(lambda (t, p): squared_error(t, p)).mean()\n",
      "mae = true_vs_predicted.map(lambda (t, p): abs_error(t, p)).mean()\n",
      "rmsle = np.sqrt(true_vs_predicted.map(lambda (t, p): squared_log_error(t, p)).mean())\n",
      "print \"Linear Model - Mean Squared Error: %2.4f\" % mse\n",
      "print \"Linear Model - Mean Absolute Error: %2.4f\" % mae\n",
      "print \"Linear Model - Root Mean Squared Log Error: %2.4f\" % rmsle"
     ],
     "language": "python",
     "metadata": {},
     "outputs": [
      {
       "output_type": "stream",
       "stream": "stdout",
       "text": [
        "Linear Model - Mean Squared Error: 30679.4539\n",
        "Linear Model - Mean Absolute Error: 130.6429\n",
        "Linear Model - Root Mean Squared Log Error: 1.4653\n"
       ]
      }
     ],
     "prompt_number": 16
    },
    {
     "cell_type": "code",
     "collapsed": false,
     "input": [
      "mse_dt = true_vs_predicted_dt.map(lambda (t, p): squared_error(t, p)).mean()\n",
      "mae_dt = true_vs_predicted_dt.map(lambda (t, p): abs_error(t, p)).mean()\n",
      "rmsle_dt = np.sqrt(true_vs_predicted_dt.map(lambda (t, p): squared_log_error(t, p)).mean())\n",
      "print \"Decision Tree - Mean Squared Error: %2.4f\" % mse_dt\n",
      "print \"Decision Tree - Mean Absolute Error: %2.4f\" % mae_dt\n",
      "print \"Decision Tree - Root Mean Squared Log Error: %2.4f\" % rmsle_dt"
     ],
     "language": "python",
     "metadata": {},
     "outputs": [
      {
       "output_type": "stream",
       "stream": "stdout",
       "text": [
        "Decision Tree - Mean Squared Error: 11560.7978\n",
        "Decision Tree - Mean Absolute Error: 71.0969\n",
        "Decision Tree - Root Mean Squared Log Error: 0.6259\n"
       ]
      }
     ],
     "prompt_number": 17
    },
    {
     "cell_type": "code",
     "collapsed": false,
     "input": [
      "targets = records.map(lambda r: float(r[-1])).collect()\n",
      "hist(targets, bins=40, color='lightblue', normed=True)\n",
      "fig = matplotlib.pyplot.gcf()\n",
      "fig.set_size_inches(16, 10) "
     ],
     "language": "python",
     "metadata": {},
     "outputs": [
      {
       "metadata": {},
       "output_type": "display_data",
       "png": "[encoded data removed]",
       "text": [
        "<matplotlib.figure.Figure at 0x7fb1ee212a90>"
       ]
      }
     ],
     "prompt_number": 18
    },
    {
     "cell_type": "code",
     "collapsed": false,
     "input": [
      "log_targets = records.map(lambda r: np.log(float(r[-1]))).collect()\n",
      "hist(log_targets, bins=40, color='lightblue', normed=True)\n",
      "fig = matplotlib.pyplot.gcf()\n",
      "fig.set_size_inches(16, 10) "
     ],
     "language": "python",
     "metadata": {},
     "outputs": [
      {
       "metadata": {},
       "output_type": "display_data",
       "png": "[encoded data removed]",
       "text": [
        "<matplotlib.figure.Figure at 0x7fb1edcfb710>"
       ]
      }
     ],
     "prompt_number": 19
    },
    {
     "cell_type": "code",
     "collapsed": false,
     "input": [
      "sqrt_targets = records.map(lambda r: np.sqrt(float(r[-1]))).collect()\n",
      "hist(sqrt_targets, bins=40, color='lightblue', normed=True)\n",
      "fig = matplotlib.pyplot.gcf()\n",
      "fig.set_size_inches(16, 10)"
     ],
     "language": "python",
     "metadata": {},
     "outputs": [
      {
       "metadata": {},
       "output_type": "display_data",
       "png": "[encoded data removed]",
       "text": [
        "<matplotlib.figure.Figure at 0x7fb1edcf3390>"
       ]
      }
     ],
     "prompt_number": 20
    },
    {
     "cell_type": "code",
     "collapsed": false,
     "input": [
      "data_log = data.map(lambda lp: LabeledPoint(np.log(lp.label), lp.features))"
     ],
     "language": "python",
     "metadata": {},
     "outputs": [],
     "prompt_number": 21
    },
    {
     "cell_type": "code",
     "collapsed": false,
     "input": [
      "model_log = LinearRegressionWithSGD.train(data_log, iterations=10, step=0.1) "
     ],
     "language": "python",
     "metadata": {},
     "outputs": [],
     "prompt_number": 22
    },
    {
     "cell_type": "code",
     "collapsed": false,
     "input": [
      "true_vs_predicted_log = data_log.map(lambda p: (np.exp(p.label), np.exp(model_log.predict(p.features)))) "
     ],
     "language": "python",
     "metadata": {},
     "outputs": [],
     "prompt_number": 23
    },
    {
     "cell_type": "code",
     "collapsed": false,
     "input": [
      "mse_log = true_vs_predicted_log.map(lambda (t, p): squared_error(t, p)).mean()\n",
      "mae_log = true_vs_predicted_log.map(lambda (t, p): abs_error(t, p)).mean()\n",
      "rmsle_log = np.sqrt(true_vs_predicted_log.map(lambda (t, p): squared_log_error(t, p)).mean())\n",
      "print \"Mean Squared Error: %2.4f\" % mse_log\n",
      "print \"Mean Absolue Error: %2.4f\" % mae_log\n",
      "print \"Root Mean Squared Log Error: %2.4f\" % rmsle_log\n",
      "print \"Non log-transformed predictions:\\n\" + str(true_vs_predicted.take(3))\n",
      "print \"Log-transformed predictions:\\n\" + str(true_vs_predicted_log.take(3)) "
     ],
     "language": "python",
     "metadata": {},
     "outputs": [
      {
       "output_type": "stream",
       "stream": "stdout",
       "text": [
        "Mean Squared Error: 50685.5559\n",
        "Mean Absolue Error: 155.2955\n",
        "Root Mean Squared Log Error: 1.5411\n",
        "Non log-transformed predictions:\n",
        "[(16.0, 117.89250386724845), (40.0, 116.2249612319211), (32.0, 116.02369145779235)]\n",
        "Log-transformed predictions:\n",
        "[(15.999999999999998, 28.080291845456223), (40.0, 26.959480191001784), (32.0, 26.654725629458021)]"
       ]
      },
      {
       "output_type": "stream",
       "stream": "stdout",
       "text": [
        "\n"
       ]
      }
     ],
     "prompt_number": 24
    },
    {
     "cell_type": "code",
     "collapsed": false,
     "input": [
      "data_dt_log = data_dt.map(lambda lp: LabeledPoint(np.log(lp.label), lp.features))\n",
      "dt_model_log = DecisionTree.trainRegressor(data_dt_log,{})\n",
      "\n",
      "preds_log = dt_model_log.predict(data_dt_log.map(lambda p: p.features))\n",
      "actual_log = data_dt_log.map(lambda p: p.label)\n",
      "true_vs_predicted_dt_log = actual_log.zip(preds_log).map(lambda (t, p): (np.exp(t), np.exp(p)))\n",
      "\n",
      "mse_log_dt = true_vs_predicted_dt_log.map(lambda (t, p): squared_error(t, p)).mean()\n",
      "mae_log_dt = true_vs_predicted_dt_log.map(lambda (t, p): abs_error(t, p)).mean()\n",
      "rmsle_log_dt = np.sqrt(true_vs_predicted_dt_log.map(lambda (t, p): squared_log_error(t, p)).mean())\n",
      "print \"Mean Squared Error: %2.4f\" % mse_log_dt\n",
      "print \"Mean Absolue Error: %2.4f\" % mae_log_dt\n",
      "print \"Root Mean Squared Log Error: %2.4f\" % rmsle_log_dt\n",
      "print \"Non log-transformed predictions:\\n\" + str(true_vs_predicted_dt.take(3))\n",
      "print \"Log-transformed predictions:\\n\" + str(true_vs_predicted_dt_log.take(3))"
     ],
     "language": "python",
     "metadata": {},
     "outputs": [
      {
       "output_type": "stream",
       "stream": "stdout",
       "text": [
        "Mean Squared Error: 14781.5760\n",
        "Mean Absolue Error: 76.4131\n",
        "Root Mean Squared Log Error: 0.6406\n",
        "Non log-transformed predictions:\n",
        "[(16.0, 54.913223140495866), (40.0, 54.913223140495866), (32.0, 53.171052631578945)]"
       ]
      },
      {
       "output_type": "stream",
       "stream": "stdout",
       "text": [
        "\n",
        "Log-transformed predictions:\n",
        "[(15.999999999999998, 37.530779787154522), (40.0, 37.530779787154522), (32.0, 7.2797070993907287)]"
       ]
      },
      {
       "output_type": "stream",
       "stream": "stdout",
       "text": [
        "\n"
       ]
      }
     ],
     "prompt_number": 27
    },
    {
     "cell_type": "code",
     "collapsed": false,
     "input": [
      "data_with_idx = data.zipWithIndex().map(lambda (k, v): (v, k)) \n",
      "test = data_with_idx.sample(False, 0.2, 42)\n",
      "train = data_with_idx.subtractByKey(test) "
     ],
     "language": "python",
     "metadata": {},
     "outputs": [],
     "prompt_number": 28
    },
    {
     "cell_type": "code",
     "collapsed": false,
     "input": [
      "train_data = train.map(lambda (idx, p): p)\n",
      "test_data = test.map(lambda (idx, p) : p)\n",
      "train_size = train_data.count()\n",
      "test_size = test_data.count()\n",
      "print \"Training data size: %d\" % train_size\n",
      "print \"Test data size: %d\" % test_size\n",
      "print \"Total data size: %d \" % num_data\n",
      "print \"Train + Test size : %d\" % (train_size + test_size)"
     ],
     "language": "python",
     "metadata": {},
     "outputs": [
      {
       "output_type": "stream",
       "stream": "stdout",
       "text": [
        "Training data size: 13934\n",
        "Test data size: 3445\n",
        "Total data size: 17379 \n",
        "Train + Test size : 17379\n"
       ]
      }
     ],
     "prompt_number": 30
    },
    {
     "cell_type": "code",
     "collapsed": false,
     "input": [
      "data_with_idx_dt = data_dt.zipWithIndex().map(lambda (k, v): (v, k))\n",
      "test_dt = data_with_idx_dt.sample(False, 0.2, 42)\n",
      "train_dt = data_with_idx_dt.subtractByKey(test_dt)\n",
      "train_data_dt = train_dt.map(lambda (idx, p): p)\n",
      "test_data_dt = test_dt.map(lambda (idx, p) : p)"
     ],
     "language": "python",
     "metadata": {},
     "outputs": [],
     "prompt_number": 31
    },
    {
     "cell_type": "code",
     "collapsed": false,
     "input": [
      "def evaluate(train, test, iterations, step, regParam, regType, intercept):\n",
      "    model = LinearRegressionWithSGD.train(train, iterations, step, regParam=regParam, regType=regType, intercept=intercept)\n",
      "    tp = test.map(lambda p: (p.label, model.predict(p.features)))\n",
      "    rmsle = np.sqrt(tp.map(lambda (t, p): squared_log_error(t, p)).mean())\n",
      "    return rmsle"
     ],
     "language": "python",
     "metadata": {},
     "outputs": [],
     "prompt_number": 32
    },
    {
     "cell_type": "code",
     "collapsed": false,
     "input": [
      "params = [1, 5, 10, 20, 50, 100]\n",
      "metrics = [evaluate(train_data, test_data, param, 0.01, 0.0, 'l2', False) for param in params]\n",
      "print params\n",
      "print metrics"
     ],
     "language": "python",
     "metadata": {},
     "outputs": [
      {
       "output_type": "stream",
       "stream": "stdout",
       "text": [
        "[1, 5, 10, 20, 50, 100]\n",
        "[2.8779465130028199, 2.0390187660391499, 1.7761565324837874, 1.5828778102209105, 1.4382263191764471, 1.4050638054019446]\n"
       ]
      }
     ],
     "prompt_number": 33
    },
    {
     "cell_type": "code",
     "collapsed": false,
     "input": [
      "plot(params, metrics, 'ro-')\n",
      "fig = matplotlib.pyplot.gcf()\n",
      "pyplot.xscale('log')"
     ],
     "language": "python",
     "metadata": {},
     "outputs": [
      {
       "metadata": {},
       "output_type": "display_data",
       "png": "[encoded data removed]",
       "text": [
        "<matplotlib.figure.Figure at 0x7fb1eddeafd0>"
       ]
      }
     ],
     "prompt_number": 35
    },
    {
     "cell_type": "code",
     "collapsed": false,
     "input": [
      "params = [0.01, 0.025, 0.05, 0.1, 1.0]\n",
      "metrics = [evaluate(train_data, test_data, 10, param, 0.0, 'l2', False) for param in params]\n",
      "print params\n",
      "print metrics"
     ],
     "language": "python",
     "metadata": {},
     "outputs": [
      {
       "output_type": "stream",
       "stream": "stdout",
       "text": [
        "[0.01, 0.025, 0.05, 0.1, 1.0]\n",
        "[1.7761565324837874, 1.4379348243997032, 1.4189071944747715, 1.5027293911925559, nan]\n"
       ]
      }
     ],
     "prompt_number": 36
    },
    {
     "cell_type": "code",
     "collapsed": false,
     "input": [
      "params = [0.0, 0.01, 0.1, 1.0, 5.0, 10.0, 20.0]\n",
      "metrics = [evaluate(train_data, test_data, 10, 0.1, param, 'l2', False) for param in params]\n",
      "print params\n",
      "print metrics\n",
      "plot(params, metrics, 'ro-')\n",
      "fig = matplotlib.pyplot.gcf()\n",
      "pyplot.xscale('log')"
     ],
     "language": "python",
     "metadata": {},
     "outputs": [
      {
       "output_type": "stream",
       "stream": "stdout",
       "text": [
        "[0.0, 0.01, 0.1, 1.0, 5.0, 10.0, 20.0]\n",
        "[1.5027293911925557, 1.5020646031965639, 1.4961903335175231, 1.4479313176192781, 1.4113329999970989, 1.5379824584440471, 1.8279564444985839]\n"
       ]
      },
      {
       "metadata": {},
       "output_type": "display_data",
       "png": "[encoded data removed]",
       "text": [
        "<matplotlib.figure.Figure at 0x7fb1ee186d50>"
       ]
      }
     ],
     "prompt_number": 39
    },
    {
     "cell_type": "code",
     "collapsed": false,
     "input": [
      "params = [0.0, 0.01, 0.1, 1.0, 10.0, 100.0, 1000.0]\n",
      "metrics = [evaluate(train_data, test_data, 10, 0.1, param, 'l1', False) for param in params]\n",
      "print params\n",
      "print metrics\n",
      "plot(params, metrics, 'ro-')\n",
      "fig = matplotlib.pyplot.gcf()\n",
      "pyplot.xscale('log')"
     ],
     "language": "python",
     "metadata": {},
     "outputs": [
      {
       "output_type": "stream",
       "stream": "stdout",
       "text": [
        "[0.0, 0.01, 0.1, 1.0, 10.0, 100.0, 1000.0]\n",
        "[1.5027293911925557, 1.5026938950690176, 1.5023761634555699, 1.499412856617814, 1.4713669769550108, 1.7596682962964316, 4.7551250073268614]\n"
       ]
      },
      {
       "metadata": {},
       "output_type": "display_data",
       "png": "[encoded data removed]",
       "text": [
        "<matplotlib.figure.Figure at 0x7fb1ee11de90>"
       ]
      }
     ],
     "prompt_number": 40
    },
    {
     "cell_type": "code",
     "collapsed": false,
     "input": [
      "model_l1 = LinearRegressionWithSGD.train(train_data, 10, 0.1, regParam=1.0, regType='l1', intercept=False)\n",
      "model_l1_10 = LinearRegressionWithSGD.train(train_data, 10, 0.1, regParam=10.0, regType='l1', intercept=False)\n",
      "model_l1_100 = LinearRegressionWithSGD.train(train_data, 10, 0.1, regParam=100.0, regType='l1', intercept=False)\n",
      "print \"L1 (1.0) number of zero weights: \" + str(sum(model_l1.weights.array == 0))\n",
      "print \"L1 (10.0) number of zeros weights: \" + str(sum(model_l1_10.weights.array == 0))\n",
      "print \"L1 (100.0) number of zeros weights: \" + str(sum(model_l1_100.weights.array == 0))"
     ],
     "language": "python",
     "metadata": {},
     "outputs": [
      {
       "output_type": "stream",
       "stream": "stdout",
       "text": [
        "L1 (1.0) number of zero weights: 4\n",
        "L1 (10.0) number of zeros weights: 33\n",
        "L1 (100.0) number of zeros weights: 58\n"
       ]
      }
     ],
     "prompt_number": 41
    },
    {
     "cell_type": "code",
     "collapsed": false,
     "input": [
      "params = [False, True]\n",
      "metrics = [evaluate(train_data, test_data, 10, 0.1, 1.0, 'l2', param) for param in params]\n",
      "print params\n",
      "print metrics\n",
      "bar(params, metrics, color='lightblue')\n",
      "fig = matplotlib.pyplot.gcf()"
     ],
     "language": "python",
     "metadata": {},
     "outputs": [
      {
       "output_type": "stream",
       "stream": "stdout",
       "text": [
        "[False, True]\n",
        "[1.4479313176192781, 1.4798261513419801]\n"
       ]
      },
      {
       "metadata": {},
       "output_type": "display_data",
       "png": "[encoded data removed]",
       "text": [
        "<matplotlib.figure.Figure at 0x7fb1edee9fd0>"
       ]
      }
     ],
     "prompt_number": 42
    },
    {
     "cell_type": "code",
     "collapsed": false,
     "input": [
      "def evaluate_dt(train, test, maxDepth, maxBins):\n",
      "    model = DecisionTree.trainRegressor(train, {}, impurity='variance', maxDepth=maxDepth, maxBins=maxBins)\n",
      "    preds = model.predict(test.map(lambda p: p.features))\n",
      "    actual = test.map(lambda p: p.label)\n",
      "    tp = actual.zip(preds)\n",
      "    rmsle = np.sqrt(tp.map(lambda (t, p): squared_log_error(t, p)).mean())\n",
      "    return rmsle "
     ],
     "language": "python",
     "metadata": {},
     "outputs": [],
     "prompt_number": 43
    },
    {
     "cell_type": "code",
     "collapsed": false,
     "input": [
      "params = [1, 2, 3, 4, 5, 10, 20]\n",
      "metrics = [evaluate_dt(train_data_dt, test_data_dt, param, 32) for param in params] \n",
      "print params\n",
      "print metrics\n",
      "plot(params, metrics,'ro-')\n",
      "fig = matplotlib.pyplot.gcf()"
     ],
     "language": "python",
     "metadata": {},
     "outputs": [
      {
       "output_type": "stream",
       "stream": "stdout",
       "text": [
        "[1, 2, 3, 4, 5, 10, 20]\n",
        "[1.0280339660196287, 0.92686672078778276, 0.81807794023407532, 0.74060228537329209, 0.63583503599563096, 0.42550665251060144, 0.45407721446446758]\n"
       ]
      },
      {
       "metadata": {},
       "output_type": "display_data",
       "png": "[encoded data removed]",
       "text": [
        "<matplotlib.figure.Figure at 0x7fb1ededed50>"
       ]
      }
     ],
     "prompt_number": 44
    },
    {
     "cell_type": "code",
     "collapsed": false,
     "input": [
      "params = [2, 4, 8, 16, 32, 64, 100]\n",
      "metrics = [evaluate_dt(train_data_dt, test_data_dt, 5, param) for param in params]\n",
      "print params\n",
      "print metrics\n",
      "plot(params, metrics,'ro-')\n",
      "fig = matplotlib.pyplot.gcf()"
     ],
     "language": "python",
     "metadata": {},
     "outputs": [
      {
       "output_type": "stream",
       "stream": "stdout",
       "text": [
        "[2, 4, 8, 16, 32, 64, 100]\n",
        "[1.3069788763726049, 0.81721457107308615, 0.75745322513058744, 0.62328384445223795, 0.63583503599563096, 0.63583503599563096, 0.63583503599563096]\n"
       ]
      },
      {
       "metadata": {},
       "output_type": "display_data",
       "png": "[encoded data removed]",
       "text": [
        "<matplotlib.figure.Figure at 0x7fb1edfc8810>"
       ]
      }
     ],
     "prompt_number": 45
    },
    {
     "cell_type": "code",
     "collapsed": false,
     "input": [],
     "language": "python",
     "metadata": {},
     "outputs": []
    }
   ],
   "metadata": {}
  }
 ]
}